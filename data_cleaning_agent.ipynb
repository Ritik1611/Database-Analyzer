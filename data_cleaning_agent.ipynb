{
 "cells": [
  {
   "cell_type": "code",
   "execution_count": null,
   "id": "fe386a18",
   "metadata": {},
   "outputs": [],
   "source": [
    "from transformers import AutoModelForCausalLM, AutoTokenizer, pipeline\n",
    "import pandas as pd\n",
    "import oracledb\n",
    "import csv"
   ]
  },
  {
   "cell_type": "code",
   "execution_count": null,
   "id": "6177001b",
   "metadata": {},
   "outputs": [],
   "source": [
    "# Setup model (download once)\n",
    "model_id = \"mistralai/Mistral-7B-Instruct-v0.2\"\n",
    "tokenizer = AutoTokenizer.from_pretrained(model_id)\n",
    "model = AutoModelForCausalLM.from_pretrained(\n",
    "    model_id, device_map=\"auto\", torch_dtype=\"auto\"\n",
    ")\n",
    "\n",
    "pipe = pipeline(\"text-generation\", model=model, tokenizer=tokenizer)"
   ]
  },
  {
   "cell_type": "code",
   "execution_count": null,
   "id": "60d14e16",
   "metadata": {},
   "outputs": [],
   "source": [
    "# Database configuration\n",
    "DB_CONFIG = {\n",
    "    \"host\": \"203.193.184.82\",\n",
    "    \"port\": \"1523\",\n",
    "    \"service_name\": \"ancldb\",\n",
    "    \"user\": \"PROP\",\n",
    "    \"password\": \"prop\"\n",
    "}\n",
    "\n",
    "# Build the DSN\n",
    "dsn = f\"{DB_CONFIG['host']}:{DB_CONFIG['port']}/{DB_CONFIG['service_name']}\"\n",
    "\n",
    "try:\n",
    "    # Connect to the Oracle DB\n",
    "    connection = oracledb.connect(\n",
    "        user=DB_CONFIG['user'],\n",
    "        password=DB_CONFIG['password'],\n",
    "        dsn=dsn\n",
    "    )\n",
    "    print(\"✅ Connection successful!\")\n",
    "\n",
    "    \n",
    "\n",
    "except oracledb.Error as e:\n",
    "    print(\"❌ Connection failed:\", e)\n",
    "\n",
    "finally:\n",
    "    if 'cursor' in locals():\n",
    "        cursor.close()\n",
    "    if 'connection' in locals():\n",
    "        connection.close()"
   ]
  }
 ],
 "metadata": {
  "kernelspec": {
   "display_name": "Python 3",
   "language": "python",
   "name": "python3"
  },
  "language_info": {
   "name": "python",
   "version": "3.10.11"
  }
 },
 "nbformat": 4,
 "nbformat_minor": 5
}
