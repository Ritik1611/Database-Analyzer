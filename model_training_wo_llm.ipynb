{
 "cells": [
  {
   "cell_type": "code",
   "execution_count": 1,
   "id": "5ac6f685",
   "metadata": {},
   "outputs": [],
   "source": [
    "import pandas as pd\n",
    "import numpy as np\n",
    "from sklearn.model_selection import train_test_split\n",
    "from sklearn.metrics import mean_absolute_error\n",
    "from xgboost import XGBRegressor\n",
    "from deap import base, creator, tools, algorithms\n",
    "import random\n",
    "import warnings\n",
    "\n",
    "warnings.filterwarnings(\"ignore\")"
   ]
  },
  {
   "cell_type": "code",
   "execution_count": 3,
   "id": "a7a24562",
   "metadata": {},
   "outputs": [],
   "source": [
    "# Load dataset\n",
    "df = pd.read_csv('clean_property_data.csv')\n",
    "\n",
    "# Define target and features\n",
    "target = 'TOTAL_TAX'\n",
    "X = df.drop(columns=[target])\n",
    "y = df[target]\n",
    "\n",
    "# Handle categorical variables\n",
    "X = pd.get_dummies(X)\n",
    "\n",
    "# Ensure no NaNs\n",
    "X.fillna(0, inplace=True)"
   ]
  },
  {
   "cell_type": "code",
   "execution_count": 4,
   "id": "27244c98",
   "metadata": {},
   "outputs": [],
   "source": [
    "# Split data\n",
    "X_train, X_test, y_train, y_test = train_test_split(X, y, test_size=0.2, random_state=42)\n",
    "\n",
    "# GA parameters\n",
    "POP_SIZE = 30\n",
    "GENS = 15\n",
    "CXPB = 0.5\n",
    "MUTPB = 0.2"
   ]
  },
  {
   "cell_type": "code",
   "execution_count": 5,
   "id": "43e1fe11",
   "metadata": {},
   "outputs": [],
   "source": [
    "# GA setup\n",
    "creator.create(\"FitnessMin\", base.Fitness, weights=(-1.0,))  # Minimize MAE\n",
    "creator.create(\"Individual\", list, fitness=creator.FitnessMin)\n",
    "\n",
    "toolbox = base.Toolbox()\n",
    "n_features = X_train.shape[1]\n",
    "\n",
    "# Attribute generator: binary inclusion for each feature\n",
    "toolbox.register(\"attr_bool\", lambda: random.randint(0, 1))\n",
    "toolbox.register(\"individual\", tools.initRepeat, creator.Individual, toolbox.attr_bool, n=n_features)\n",
    "toolbox.register(\"population\", tools.initRepeat, list, toolbox.individual)\n",
    "\n",
    "# Fitness function\n",
    "def eval_individual(individual):\n",
    "    selected = [bool(gene) for gene in individual]\n",
    "    if sum(selected) == 0:\n",
    "        return (float('inf'),)  # Penalize empty selection\n",
    "\n",
    "    model = XGBRegressor(n_estimators=100, random_state=42, verbosity=0)\n",
    "    model.fit(X_train.loc[:, selected], y_train)\n",
    "    preds = model.predict(X_test.loc[:, selected])\n",
    "    mae = mean_absolute_error(y_test, preds)\n",
    "    return (mae,)\n",
    "\n",
    "# Operators\n",
    "toolbox.register(\"evaluate\", eval_individual)\n",
    "toolbox.register(\"mate\", tools.cxTwoPoint)\n",
    "toolbox.register(\"mutate\", tools.mutFlipBit, indpb=0.1)\n",
    "toolbox.register(\"select\", tools.selTournament, tournsize=3)"
   ]
  },
  {
   "cell_type": "code",
   "execution_count": 6,
   "id": "f4152f38",
   "metadata": {},
   "outputs": [],
   "source": [
    "# GA main loop\n",
    "def run_ga():\n",
    "    pop = toolbox.population(n=POP_SIZE)\n",
    "    hof = tools.HallOfFame(1)\n",
    "    stats = tools.Statistics(lambda ind: ind.fitness.values)\n",
    "    stats.register(\"avg\", np.mean)\n",
    "    stats.register(\"min\", np.min)\n",
    "    \n",
    "    pop, log = algorithms.eaSimple(pop, toolbox, cxpb=CXPB, mutpb=MUTPB, ngen=GENS,\n",
    "                                   stats=stats, halloffame=hof, verbose=True)\n",
    "\n",
    "    return hof[0]"
   ]
  },
  {
   "cell_type": "code",
   "execution_count": 7,
   "id": "46aa0d95",
   "metadata": {},
   "outputs": [
    {
     "name": "stdout",
     "output_type": "stream",
     "text": [
      "gen\tnevals\tavg        \tmin        \n",
      "0  \t30    \t2.90577e+06\t1.77075e+06\n",
      "1  \t16    \t2.10451e+06\t1.77075e+06\n",
      "2  \t18    \t1.96525e+06\t1.77075e+06\n",
      "3  \t18    \t1.83972e+06\t1.77075e+06\n",
      "4  \t19    \t1.96326e+06\t1.73846e+06\n",
      "5  \t16    \t1.91288e+06\t1.73846e+06\n",
      "6  \t19    \t1.77218e+06\t1.73846e+06\n",
      "7  \t12    \t1.9114e+06 \t1.65504e+06\n",
      "8  \t21    \t1.72949e+06\t1.65504e+06\n",
      "9  \t18    \t1.71621e+06\t1.65504e+06\n",
      "10 \t20    \t1.6932e+06 \t1.65504e+06\n",
      "11 \t20    \t1.71518e+06\t1.65504e+06\n",
      "12 \t18    \t1.88939e+06\t1.65504e+06\n",
      "13 \t18    \t1.7167e+06 \t1.65504e+06\n",
      "14 \t13    \t1.81615e+06\t1.65504e+06\n",
      "15 \t21    \t1.94396e+06\t1.65504e+06\n",
      "Selected Features: ['Unnamed: 0', 'YEAR', 'NUM_PROP_WARDNO', 'NUM_PROP_RATE', 'NUM_PROP_AREA', 'NUM_PROP_ANNUALRENT']\n",
      "Final MAE on Test Set: 1655043.6950\n"
     ]
    }
   ],
   "source": [
    "# Run GA\n",
    "best_ind = run_ga()\n",
    "\n",
    "# Final model with best features\n",
    "selected_features = [col for col, sel in zip(X_train.columns, best_ind) if sel == 1]\n",
    "print(\"Selected Features:\", selected_features)\n",
    "\n",
    "final_model = XGBRegressor(n_estimators=100, random_state=42, verbosity=0)\n",
    "final_model.fit(X_train[selected_features], y_train)\n",
    "preds = final_model.predict(X_test[selected_features])\n",
    "mae = mean_absolute_error(y_test, preds)\n",
    "\n",
    "print(f\"Final MAE on Test Set: {mae:.4f}\")\n"
   ]
  }
 ],
 "metadata": {
  "kernelspec": {
   "display_name": "Python 3",
   "language": "python",
   "name": "python3"
  },
  "language_info": {
   "codemirror_mode": {
    "name": "ipython",
    "version": 3
   },
   "file_extension": ".py",
   "mimetype": "text/x-python",
   "name": "python",
   "nbconvert_exporter": "python",
   "pygments_lexer": "ipython3",
   "version": "3.13.2"
  }
 },
 "nbformat": 4,
 "nbformat_minor": 5
}
